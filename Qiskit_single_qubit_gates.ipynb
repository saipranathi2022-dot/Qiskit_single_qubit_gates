{
  "nbformat": 4,
  "nbformat_minor": 0,
  "metadata": {
    "colab": {
      "provenance": []
    },
    "kernelspec": {
      "name": "python3",
      "display_name": "Python 3"
    },
    "language_info": {
      "name": "python"
    }
  },
  "cells": [
    {
      "cell_type": "code",
      "source": [
        "!pip install qiskit qiskit-aer --upgrade"
      ],
      "metadata": {
        "id": "Mx6284lurNt1",
        "colab": {
          "base_uri": "https://localhost:8080/"
        },
        "outputId": "504a9d47-1d68-43a2-8b49-46d4f5f0948c"
      },
      "execution_count": 1,
      "outputs": [
        {
          "output_type": "stream",
          "name": "stdout",
          "text": [
            "Collecting qiskit\n",
            "  Downloading qiskit-2.2.1-cp39-abi3-manylinux2014_x86_64.manylinux_2_17_x86_64.whl.metadata (12 kB)\n",
            "Collecting qiskit-aer\n",
            "  Downloading qiskit_aer-0.17.2-cp312-cp312-manylinux_2_17_x86_64.manylinux2014_x86_64.whl.metadata (8.3 kB)\n",
            "Collecting rustworkx>=0.15.0 (from qiskit)\n",
            "  Downloading rustworkx-0.17.1-cp39-abi3-manylinux_2_17_x86_64.manylinux2014_x86_64.whl.metadata (10 kB)\n",
            "Requirement already satisfied: numpy<3,>=1.17 in /usr/local/lib/python3.12/dist-packages (from qiskit) (2.0.2)\n",
            "Requirement already satisfied: scipy>=1.5 in /usr/local/lib/python3.12/dist-packages (from qiskit) (1.16.2)\n",
            "Requirement already satisfied: dill>=0.3 in /usr/local/lib/python3.12/dist-packages (from qiskit) (0.3.8)\n",
            "Collecting stevedore>=3.0.0 (from qiskit)\n",
            "  Downloading stevedore-5.5.0-py3-none-any.whl.metadata (2.2 kB)\n",
            "Requirement already satisfied: typing-extensions in /usr/local/lib/python3.12/dist-packages (from qiskit) (4.15.0)\n",
            "Requirement already satisfied: psutil>=5 in /usr/local/lib/python3.12/dist-packages (from qiskit-aer) (5.9.5)\n",
            "Requirement already satisfied: python-dateutil>=2.8.0 in /usr/local/lib/python3.12/dist-packages (from qiskit-aer) (2.9.0.post0)\n",
            "Requirement already satisfied: six>=1.5 in /usr/local/lib/python3.12/dist-packages (from python-dateutil>=2.8.0->qiskit-aer) (1.17.0)\n",
            "Downloading qiskit-2.2.1-cp39-abi3-manylinux2014_x86_64.manylinux_2_17_x86_64.whl (8.0 MB)\n",
            "\u001b[2K   \u001b[90m━━━━━━━━━━━━━━━━━━━━━━━━━━━━━━━━━━━━━━━━\u001b[0m \u001b[32m8.0/8.0 MB\u001b[0m \u001b[31m74.2 MB/s\u001b[0m eta \u001b[36m0:00:00\u001b[0m\n",
            "\u001b[?25hDownloading qiskit_aer-0.17.2-cp312-cp312-manylinux_2_17_x86_64.manylinux2014_x86_64.whl (12.4 MB)\n",
            "\u001b[2K   \u001b[90m━━━━━━━━━━━━━━━━━━━━━━━━━━━━━━━━━━━━━━━━\u001b[0m \u001b[32m12.4/12.4 MB\u001b[0m \u001b[31m135.9 MB/s\u001b[0m eta \u001b[36m0:00:00\u001b[0m\n",
            "\u001b[?25hDownloading rustworkx-0.17.1-cp39-abi3-manylinux_2_17_x86_64.manylinux2014_x86_64.whl (2.2 MB)\n",
            "\u001b[2K   \u001b[90m━━━━━━━━━━━━━━━━━━━━━━━━━━━━━━━━━━━━━━━━\u001b[0m \u001b[32m2.2/2.2 MB\u001b[0m \u001b[31m96.1 MB/s\u001b[0m eta \u001b[36m0:00:00\u001b[0m\n",
            "\u001b[?25hDownloading stevedore-5.5.0-py3-none-any.whl (49 kB)\n",
            "\u001b[2K   \u001b[90m━━━━━━━━━━━━━━━━━━━━━━━━━━━━━━━━━━━━━━━━\u001b[0m \u001b[32m49.5/49.5 kB\u001b[0m \u001b[31m4.4 MB/s\u001b[0m eta \u001b[36m0:00:00\u001b[0m\n",
            "\u001b[?25hInstalling collected packages: stevedore, rustworkx, qiskit, qiskit-aer\n",
            "Successfully installed qiskit-2.2.1 qiskit-aer-0.17.2 rustworkx-0.17.1 stevedore-5.5.0\n"
          ]
        }
      ]
    },
    {
      "cell_type": "code",
      "execution_count": 2,
      "metadata": {
        "id": "VPOwLacGrCdU",
        "colab": {
          "base_uri": "https://localhost:8080/"
        },
        "outputId": "0b8d85b9-01f4-40fe-e24b-500d318ce513"
      },
      "outputs": [
        {
          "output_type": "stream",
          "name": "stdout",
          "text": [
            "\n",
            "Task 1\n",
            "Original Order (X then H): {'0 0': 523, '1 0': 501}\n",
            "Swapped Order (H then X): {'0 0': 519, '1 0': 505}\n",
            "\n",
            "Explanation: Quantum gates are **not commutative**. Applying H then X gives a different final state than X then H, because each gate transforms the qubit state in a different basis.\n",
            "\n",
            "Task 2\n",
            "θ = 0.79 radians: {'1 0': 516, '0 0': 508}\n",
            "θ = 1.57 radians: {'1 0': 493, '0 0': 531}\n",
            "θ = 3.14 radians: {'1 0': 524, '0 0': 500}\n",
            "\n",
            "Explanation: Changing the rotation angle around the Z-axis modifies the phase of the qubit state, which changes interference patterns and affects measurement probabilities.\n",
            "\n",
            "Task 3\n",
            "Without Hadamard Gate: {'1 0': 1024}\n",
            "\n",
            "Explanation: Removing the Hadamard gate eliminates the superposition step. The qubit remains mostly in computational basis states, so measurement probabilities reflect deterministic flips/phases rather than interference.\n"
          ]
        }
      ],
      "source": [
        "from qiskit import QuantumCircuit, transpile\n",
        "from qiskit_aer import AerSimulator\n",
        "import math\n",
        "\n",
        "# Initialize simulator\n",
        "sim = AerSimulator()\n",
        "\n",
        "# =========================\n",
        "# Task 1: Change Gate Order\n",
        "# =========================\n",
        "print(\"\\nTask 1\")\n",
        "\n",
        "# Original Order: X → H\n",
        "qc1 = QuantumCircuit(1, 1)\n",
        "qc1.x(0)\n",
        "qc1.h(0)\n",
        "qc1.s(0)\n",
        "qc1.t(0)\n",
        "qc1.rz(0.5, 0)\n",
        "qc1.measure_all()\n",
        "\n",
        "compiled1 = transpile(qc1, sim)\n",
        "result1 = sim.run(compiled1, shots=1024).result()\n",
        "counts1 = result1.get_counts()\n",
        "print(\"Original Order (X then H):\", counts1)\n",
        "\n",
        "# Swapped Order: H → X\n",
        "qc2 = QuantumCircuit(1, 1)\n",
        "qc2.h(0)\n",
        "qc2.x(0)\n",
        "qc2.s(0)\n",
        "qc2.t(0)\n",
        "qc2.rz(0.5, 0)\n",
        "qc2.measure_all()\n",
        "\n",
        "compiled2 = transpile(qc2, sim)\n",
        "result2 = sim.run(compiled2, shots=1024).result()\n",
        "counts2 = result2.get_counts()\n",
        "print(\"Swapped Order (H then X):\", counts2)\n",
        "\n",
        "print(\"\\nExplanation: Quantum gates are **not commutative**. Applying H then X gives a different final state than X then H, because each gate transforms the qubit state in a different basis.\")\n",
        "\n",
        "\n",
        "# ===========================\n",
        "# Task 2: Vary Rotation Angle\n",
        "# ===========================\n",
        "print(\"\\nTask 2\")\n",
        "\n",
        "for theta in [math.pi/4, math.pi/2, math.pi]:\n",
        "    qc_angle = QuantumCircuit(1, 1)\n",
        "    qc_angle.x(0)\n",
        "    qc_angle.h(0)\n",
        "    qc_angle.s(0)\n",
        "    qc_angle.t(0)\n",
        "    qc_angle.rz(theta, 0)   # Different angles\n",
        "    qc_angle.measure_all()\n",
        "\n",
        "    compiled = transpile(qc_angle, sim)\n",
        "    result = sim.run(compiled, shots=1024).result()\n",
        "    counts = result.get_counts()\n",
        "    print(f\"θ = {theta:.2f} radians:\", counts)\n",
        "\n",
        "print(\"\\nExplanation: Changing the rotation angle around the Z-axis modifies the phase of the qubit state, which changes interference patterns and affects measurement probabilities.\")\n",
        "\n",
        "\n",
        "# ======================\n",
        "# Task 3: Remove a Gate\n",
        "# ======================\n",
        "print(\"\\nTask 3\")\n",
        "\n",
        "qc_removed = QuantumCircuit(1, 1)\n",
        "qc_removed.x(0)\n",
        "# qc_removed.h(0)   # Hadamard removed\n",
        "qc_removed.s(0)\n",
        "qc_removed.t(0)\n",
        "qc_removed.rz(0.5, 0)\n",
        "qc_removed.measure_all()\n",
        "\n",
        "compiled_removed = transpile(qc_removed, sim)\n",
        "result_removed = sim.run(compiled_removed, shots=1024).result()\n",
        "counts_removed = result_removed.get_counts()\n",
        "print(\"Without Hadamard Gate:\", counts_removed)\n",
        "\n",
        "print(\"\\nExplanation: Removing the Hadamard gate eliminates the superposition step. The qubit remains mostly in computational basis states, so measurement probabilities reflect deterministic flips/phases rather than interference.\")\n"
      ]
    },
    {
      "cell_type": "code",
      "source": [],
      "metadata": {
        "id": "XXSzfpG9q7hc"
      },
      "execution_count": null,
      "outputs": []
    }
  ]
}